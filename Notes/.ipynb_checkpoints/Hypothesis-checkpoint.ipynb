{
 "cells": [
  {
   "cell_type": "markdown",
   "id": "41bc3f76",
   "metadata": {},
   "source": [
    "# Hypothesis and Inference"
   ]
  },
  {
   "cell_type": "markdown",
   "id": "349becb0",
   "metadata": {},
   "source": [
    "## Statistical Hypothesis Testing\n",
    "\n",
    "Statistics can be thought of as observations of random variables from known distributions, which allows us to make statements about how likely those assumptions are to hold."
   ]
  },
  {
   "cell_type": "markdown",
   "id": "c2d08f3b",
   "metadata": {},
   "source": [
    "### Example: Flipping a Coin"
   ]
  },
  {
   "cell_type": "code",
   "execution_count": 6,
   "id": "76b0461a",
   "metadata": {},
   "outputs": [],
   "source": [
    "from typing import Tuple\n",
    "import math"
   ]
  },
  {
   "cell_type": "code",
   "execution_count": 2,
   "id": "0ee0f5bc",
   "metadata": {},
   "outputs": [],
   "source": [
    "def normal_appoximation_to_binomial(n: int, p: float) -> Tuple[float,float]:\n",
    "    \"\"\"Retuns mu and sigma corresponding to a Binomial(n,p)\"\"\"\n",
    "    \n",
    "    mu = p * n\n",
    "    sigma = math.sqrt(p*(1 - p) * n)\n",
    "    return mu, sigma"
   ]
  },
  {
   "cell_type": "markdown",
   "id": "b46a2585",
   "metadata": {},
   "source": [
    "Whenever a random variable follows a normal distribution, we can use **normal_cdf** to figure out the probability that its realized value lies within or outside a particular interval."
   ]
  },
  {
   "cell_type": "code",
   "execution_count": null,
   "id": "9a08ba51",
   "metadata": {},
   "outputs": [],
   "source": [
    "from probability import normal_cdf, inverse_normal_cdf\n",
    "import math, random"
   ]
  },
  {
   "cell_type": "code",
   "execution_count": null,
   "id": "2d230f2f",
   "metadata": {},
   "outputs": [],
   "source": [
    "# the normal cdf _is_ the probability the variable is below a threshold\n",
    "normal_probability_below = normal_cdf\n",
    "\n",
    "# it's above the threshold if it's not below the threshold\n",
    "def normal_probability_above(lo, mu=0, sigma=1):\n",
    "    return 1 - normal_cdf(lo, mu, sigma)\n",
    "\n",
    "# it's between if it's less than hi, but not less than lo\n",
    "def normal_probability_between(lo, hi, mu=0, sigma=1):\n",
    "    return normal_cdf(hi, mu, sigma) - normal_cdf(lo, mu, sigma)\n",
    "\n",
    "# it's outside if it's not between\n",
    "def normal_probability_outside(lo, hi, mu=0, sigma=1):\n",
    "    return 1 - normal_probability_between(lo, hi, mu, sigma)"
   ]
  },
  {
   "cell_type": "code",
   "execution_count": 3,
   "id": "78451eea",
   "metadata": {},
   "outputs": [],
   "source": [
    "import random"
   ]
  },
  {
   "cell_type": "code",
   "execution_count": null,
   "id": "ec890d7b",
   "metadata": {},
   "outputs": [],
   "source": [
    "extreme_value_count = 0\n",
    "for _ in range(1000):\n",
    "    num_heads = sum(1 if random.random() < 0.5 else 0)\n",
    "\n",
    "# Count # of heads\n",
    "\n",
    "for _ in range(1000)\n",
    "\n",
    "# in 1000 flips,\n",
    "\n",
    "if num_heads >= 530 or num_heads <= 470:\n",
    "    \n",
    "# amd count how often\n",
    "    \n",
    "    extreme_value_count += 1\n",
    "\n",
    "# the # is \"extreme\""
   ]
  },
  {
   "cell_type": "markdown",
   "id": "9897a44f",
   "metadata": {},
   "source": [
    "## Confidence Intervals\n",
    "\n",
    "We’ve been testing hypotheses about the value of the heads probability p, which is a parameter of the unknown “heads” distribution. When this is the case, a third approach is to construct a confidence interval around the observed value of the parameter."
   ]
  },
  {
   "cell_type": "code",
   "execution_count": 9,
   "id": "6f38d328",
   "metadata": {},
   "outputs": [
    {
     "data": {
      "text/plain": [
       "0.04993746088859544"
      ]
     },
     "execution_count": 9,
     "metadata": {},
     "output_type": "execute_result"
    }
   ],
   "source": [
    "p_hat = 525/1000\n",
    "mu = p_hat\n",
    "sigma = math.sqrt(p_hat * (1 - p_hat) / 100 )\n",
    "sigma"
   ]
  },
  {
   "cell_type": "code",
   "execution_count": null,
   "id": "575ca1a0",
   "metadata": {},
   "outputs": [],
   "source": [
    "normal_two_sided_bounds(0.95, mu, sigma)"
   ]
  },
  {
   "cell_type": "markdown",
   "id": "2aa5b9b0",
   "metadata": {},
   "source": [
    "## p-Hacking\n",
    "\n",
    "A procedure that erroneusly rejects tha null hypothesis only 5% of the time wil - by definition - 5% of the time erroneusly reject the null hypothesis."
   ]
  },
  {
   "cell_type": "code",
   "execution_count": 12,
   "id": "290d9d75",
   "metadata": {},
   "outputs": [],
   "source": [
    "from typing import List"
   ]
  },
  {
   "cell_type": "code",
   "execution_count": 15,
   "id": "a823be05",
   "metadata": {},
   "outputs": [],
   "source": [
    "def run_experiment() -> List[bool]:\n",
    "    \"\"\"Flips a fair coin 1000 times, True = heads, False = tails\"\"\"\n",
    "    return [random.random() < 0.5 for _ in range(1000)]\n",
    "\n",
    "def reject_fairness(experiment: List[bool]) -> bool:\n",
    "    \"\"\"Using the 5% significance levels\"\"\"\n",
    "    num_heads = len([flip for flip in experiment if flip])\n",
    "    return num_heads < 469 or num_heads > 531\n",
    "\n",
    "random.seed(0)\n",
    "experiments = [run_experiment() for _ in range(1000)]\n",
    "num_rejections = len([experiment\n",
    "                     for experiment in experiments\n",
    "                     if reject_fairness(experiment)])\n",
    "\n",
    "assert num_rejections == 46"
   ]
  },
  {
   "cell_type": "markdown",
   "id": "0f7586c7",
   "metadata": {},
   "source": [
    "## Example: Running an A/B Test\n",
    "\n",
    "Let’s say that $N_A$ people see ad $A$, and that $n_A$ of them click it. We can think of each ad view as a Bernoulli trial where $p_A$ is the probability that someone clicks ad $A$. Then (if $N_A$ is large, which it is here) we know that $n_A/N_A$ is approximately a normal random variable with mean $p_A$ and standar deviation:\n",
    "\n",
    "$\\sigma_A = \\sqrt{\\rho_A(1 - \\rho_A)/N_A}$\n",
    "\n",
    "Similarly, $n_B/N_B$ is approximately a normal random variable with mean $\\rho_B$ and standar deviation\n",
    "\n",
    "$\\sigma_B = \\sqrt{\\rho_B(1 - \\rho_B)/N_B}$\n"
   ]
  },
  {
   "cell_type": "code",
   "execution_count": 16,
   "id": "0bc1d616",
   "metadata": {},
   "outputs": [],
   "source": [
    "# This can be expressed in code\n",
    "\n",
    "def estimated_parameters(N: int, n: int) -> Tuple[float, float]:\n",
    "    p = n/N\n",
    "    sigma = math.sqrt(p * (1 - p) / N)\n",
    "    return p, sigma"
   ]
  },
  {
   "cell_type": "markdown",
   "id": "2b5ffdc9",
   "metadata": {},
   "source": [
    "This mean that the **null hypothesis** $p_A$ and $p_B$ are the same (that is, $p_A - p_B$ is 0) by using the statistic"
   ]
  },
  {
   "cell_type": "code",
   "execution_count": 17,
   "id": "98e6e1ca",
   "metadata": {},
   "outputs": [],
   "source": [
    "def a_b_test_statistic(N_A: int, n_A: int, N_B: int, n_B: int) -> float:\n",
    "    p_A, sigma_A = estimated_parameters(N_A, n_A)\n",
    "    p_B, sigma_B = estimated_parameters(N_B, n_B)\n",
    "    \n",
    "    return (p_B - p_A) / math.sqrt(sigma_A ** 2 + sigma_B ** 2)"
   ]
  },
  {
   "cell_type": "markdown",
   "id": "41e898df",
   "metadata": {},
   "source": [
    "which should approximately be a standard normal.\n",
    "For example, if “tastes great” gets 200 clicks out of 1,000 views and “less bias” gets 180 clicks out of 1,000 views, the statistic equals."
   ]
  },
  {
   "cell_type": "code",
   "execution_count": 18,
   "id": "9a149d9a",
   "metadata": {},
   "outputs": [],
   "source": [
    "z = a_b_test_statistic(1000, 200, 1000, 180)  # -1.14"
   ]
  },
  {
   "cell_type": "markdown",
   "id": "772b9c7c",
   "metadata": {},
   "source": [
    "## Bayesian Inference\n",
    "\n",
    "when the unknown parameter is a probability, we often use a prior from the Beta distribution, which puts all its probability between 0 and 1,"
   ]
  },
  {
   "cell_type": "code",
   "execution_count": 19,
   "id": "17946b6c",
   "metadata": {},
   "outputs": [],
   "source": [
    "def B(alpha: float, beta: float) -> float:\n",
    "    \"\"\"A normalizing constant so that the total probability is 1\"\"\"\n",
    "    return math.gamma(alpha) * math.gamma(beta) / math.gamma(alpha + beta)\n",
    "\n",
    "def beta_pdf(x: float, alpha: float, beta: float) -> float:\n",
    "    if x <= 0 or x >= 1:          # no weight outside of [0, 1]\n",
    "        return 0\n",
    "    return x ** (alpha - 1) * (1 - x) ** (beta - 1) / B(alpha, beta)"
   ]
  },
  {
   "cell_type": "markdown",
   "id": "9988e882",
   "metadata": {},
   "source": [
    "The larger alpha and beta are, the \"tighter\" the distribution is."
   ]
  },
  {
   "cell_type": "code",
   "execution_count": null,
   "id": "42987f88",
   "metadata": {},
   "outputs": [],
   "source": []
  }
 ],
 "metadata": {
  "kernelspec": {
   "display_name": "Python 3",
   "language": "python",
   "name": "python3"
  },
  "language_info": {
   "codemirror_mode": {
    "name": "ipython",
    "version": 3
   },
   "file_extension": ".py",
   "mimetype": "text/x-python",
   "name": "python",
   "nbconvert_exporter": "python",
   "pygments_lexer": "ipython3",
   "version": "3.7.9"
  }
 },
 "nbformat": 4,
 "nbformat_minor": 5
}
