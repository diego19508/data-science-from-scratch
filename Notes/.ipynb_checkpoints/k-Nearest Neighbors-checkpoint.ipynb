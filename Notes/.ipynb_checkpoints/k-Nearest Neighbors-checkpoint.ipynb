{
 "cells": [
  {
   "cell_type": "markdown",
   "id": "db6a7abf-a56a-4965-a229-a4828fc2e28a",
   "metadata": {},
   "source": [
    "# k-Nearest Neighbors"
   ]
  },
  {
   "cell_type": "code",
   "execution_count": 1,
   "id": "9dd97324-ff8a-4a02-b9ba-e1d59cb6d79f",
   "metadata": {},
   "outputs": [],
   "source": [
    "from typing import List\n",
    "from collections import Counter\n",
    "\n",
    "def raw_majority_vote(labels: List[str]) -> str:\n",
    "    votes = Counter(labels)\n",
    "    winner, _ = votes.most_common(1)[0]\n",
    "    return winner\n",
    "\n",
    "assert raw_majority_vote(['a', 'b', 'c', 'b']) == 'b'"
   ]
  },
  {
   "cell_type": "markdown",
   "id": "03d77c29-69e0-4b40-92a6-9366e783edaa",
   "metadata": {},
   "source": [
    "Reduce **k** until we find a unique winner"
   ]
  },
  {
   "cell_type": "code",
   "execution_count": 2,
   "id": "60becbc8-a630-4113-ab8f-d196a477b545",
   "metadata": {},
   "outputs": [],
   "source": [
    "def majority_vote(labels: List[str]) -> str:\n",
    "    \"\"\"Assumes that labels are ordered from nearest to farthest.\"\"\"\n",
    "    vote_counts = Counter(labels)\n",
    "    winner, winner_count = vote_counts.most_common(1)[0]\n",
    "    num_winners = len([count\n",
    "                       for count in vote_counts.values()\n",
    "                       if count == winner_count])\n",
    "\n",
    "    if num_winners == 1:\n",
    "        return winner                     # unique winner, so return it\n",
    "    else:\n",
    "        return majority_vote(labels[:-1]) # try again without the farthest\n",
    "\n",
    "# Tie, so look at first 4, then 'b'\n",
    "assert majority_vote(['a', 'b', 'c', 'b', 'a']) == 'b'"
   ]
  },
  {
   "cell_type": "markdown",
   "id": "c0ed4776-83ac-40e0-9169-9a040444e2aa",
   "metadata": {},
   "source": [
    "Create a classifier"
   ]
  },
  {
   "cell_type": "code",
   "execution_count": 3,
   "id": "82fa5949-b20f-4dd7-a860-d3bc21a662b0",
   "metadata": {},
   "outputs": [],
   "source": [
    "from typing import NamedTuple\n",
    "from scratch.linear_algebra import Vector, distance\n",
    "\n",
    "class LabeledPoint(NamedTuple):\n",
    "    point: Vector\n",
    "    label: str\n",
    "\n",
    "def knn_classify(k: int,\n",
    "                 labeled_points: List[LabeledPoint],\n",
    "                 new_point: Vector) -> str:\n",
    "\n",
    "    # Order the labeled points from nearest to farthest.\n",
    "    by_distance = sorted(labeled_points,\n",
    "                         key=lambda lp: distance(lp.point, new_point))\n",
    "\n",
    "    # Find the labels for the k closest\n",
    "    k_nearest_labels = [lp.label for lp in by_distance[:k]]\n",
    "\n",
    "    # and let them vote.\n",
    "    return majority_vote(k_nearest_labels)"
   ]
  },
  {
   "cell_type": "markdown",
   "id": "b9d3b9e6-fc91-497b-9170-0e96cb02920b",
   "metadata": {},
   "source": [
    "## Example: The Iris Dataset"
   ]
  },
  {
   "cell_type": "code",
   "execution_count": 4,
   "id": "1fcb1a66-59a6-4f4f-ac21-461657190548",
   "metadata": {},
   "outputs": [],
   "source": [
    "import requests"
   ]
  },
  {
   "cell_type": "code",
   "execution_count": 12,
   "id": "3855b378-c39f-4586-95af-2131dc944f09",
   "metadata": {},
   "outputs": [],
   "source": [
    "data = requests.get(\"https://archive.ics.uci.edu/ml/machine-learning-databases/iris/iris.data\")\n",
    "                    \n",
    "with open(\"iris.dat\", \"w\") as f:\n",
    "     f.write(data.text)"
   ]
  },
  {
   "cell_type": "code",
   "execution_count": 17,
   "id": "d90c829d-32e1-4a59-877a-301e3ed19512",
   "metadata": {},
   "outputs": [
    {
     "data": {
      "text/plain": [
       "<Response [200]>"
      ]
     },
     "execution_count": 17,
     "metadata": {},
     "output_type": "execute_result"
    }
   ],
   "source": [
    "data"
   ]
  },
  {
   "cell_type": "code",
   "execution_count": null,
   "id": "44fb95ee-8955-48b8-8bf1-cd95935af0c2",
   "metadata": {},
   "outputs": [],
   "source": [
    "def main():\n",
    "    from typing import Dict\n",
    "    import csv\n",
    "    from collections import defaultdict\n",
    "    \n",
    "    def parse_iris_row(row: List[str]) -> LabeledPoint:\n",
    "        \"\"\"\n",
    "        sepal_length, sepal_width, petal_length, petal_width, class\n",
    "        \"\"\"\n",
    "        measurements = [float(value) for value in row[:-1]]\n",
    "        # class is e.g. \"Iris-virginica\"; we just want \"virginica\"\n",
    "        label = row[-1].split(\"-\")[-1]\n",
    "    \n",
    "        return LabeledPoint(measurements, label)\n",
    "    \n",
    "    with open('iris.data') as f:\n",
    "        reader = csv.reader(f)\n",
    "        iris_data = [parse_iris_row(row) for row in reader]\n",
    "    \n",
    "    # We'll also group just the points by species/label so we can plot them.\n",
    "    points_by_species: Dict[str, List[Vector]] = defaultdict(list)\n",
    "    for iris in iris_data:\n",
    "        points_by_species[iris.label].append(iris.point)\n",
    "    \n",
    "    from matplotlib import pyplot as plt\n",
    "    metrics = ['sepal length', 'sepal width', 'petal length', 'petal width']\n",
    "    pairs = [(i, j) for i in range(4) for j in range(4) if i < j]\n",
    "    marks = ['+', '.', 'x']  # we have 3 classes, so 3 markers\n",
    "    \n",
    "    fig, ax = plt.subplots(2, 3)\n",
    "    \n",
    "    for row in range(2):\n",
    "        for col in range(3):\n",
    "            i, j = pairs[3 * row + col]\n",
    "            ax[row][col].set_title(f\"{metrics[i]} vs {metrics[j]}\", fontsize=8)\n",
    "            ax[row][col].set_xticks([])\n",
    "            ax[row][col].set_yticks([])\n",
    "    \n",
    "            for mark, (species, points) in zip(marks, points_by_species.items()):\n",
    "                xs = [point[i] for point in points]\n",
    "                ys = [point[j] for point in points]\n",
    "                ax[row][col].scatter(xs, ys, marker=mark, label=species)\n",
    "    \n",
    "    ax[-1][-1].legend(loc='lower right', prop={'size': 6})\n",
    "    # plt.show()"
   ]
  },
  {
   "cell_type": "code",
   "execution_count": null,
   "id": "7d46e2e8-2a4c-481c-9ded-a0b2144bec0b",
   "metadata": {},
   "outputs": [],
   "source": []
  }
 ],
 "metadata": {
  "kernelspec": {
   "display_name": "Python 3",
   "language": "python",
   "name": "python3"
  },
  "language_info": {
   "codemirror_mode": {
    "name": "ipython",
    "version": 3
   },
   "file_extension": ".py",
   "mimetype": "text/x-python",
   "name": "python",
   "nbconvert_exporter": "python",
   "pygments_lexer": "ipython3",
   "version": "3.7.9"
  }
 },
 "nbformat": 4,
 "nbformat_minor": 5
}
