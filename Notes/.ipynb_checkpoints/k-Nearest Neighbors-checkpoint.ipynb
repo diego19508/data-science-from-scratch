{
 "cells": [
  {
   "cell_type": "markdown",
   "id": "db6a7abf-a56a-4965-a229-a4828fc2e28a",
   "metadata": {},
   "source": [
    "# k-Nearest Neighbors"
   ]
  },
  {
   "cell_type": "code",
   "execution_count": null,
   "id": "9dd97324-ff8a-4a02-b9ba-e1d59cb6d79f",
   "metadata": {},
   "outputs": [],
   "source": []
  }
 ],
 "metadata": {
  "kernelspec": {
   "display_name": "Python 3",
   "language": "python",
   "name": "python3"
  },
  "language_info": {
   "codemirror_mode": {
    "name": "ipython",
    "version": 3
   },
   "file_extension": ".py",
   "mimetype": "text/x-python",
   "name": "python",
   "nbconvert_exporter": "python",
   "pygments_lexer": "ipython3",
   "version": "3.7.9"
  }
 },
 "nbformat": 4,
 "nbformat_minor": 5
}
