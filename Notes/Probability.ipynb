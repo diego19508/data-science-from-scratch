{
 "cells": [
  {
   "cell_type": "markdown",
   "id": "chicken-shaft",
   "metadata": {},
   "source": [
    "# Probability"
   ]
  },
  {
   "cell_type": "markdown",
   "id": "flexible-vegetation",
   "metadata": {},
   "source": [
    "Notationally, we write $P(E)$ to mean \"The probability of event $E$\" "
   ]
  },
  {
   "cell_type": "markdown",
   "id": "acute-party",
   "metadata": {},
   "source": [
    "## Dependence and Independence\n",
    "\n",
    "Mathematically, we say that two events E and F are independent if the probability that they both happen is the product of the probabilities that each one happens:\n",
    "\n",
    "$P(E,F) = P(E)P(F)$"
   ]
  },
  {
   "cell_type": "markdown",
   "id": "authentic-pantyhose",
   "metadata": {},
   "source": [
    "## Conditional Probability\n",
    "\n",
    "When two events $E$ and $F$ are independent, then by definition we have:\n",
    "\n",
    "$P(E,F) = P(E)P(F)$\n",
    "\n",
    "If they are not necessarili independent (and if the probability of $F$ is not zero), the we define the probability of $E$\"conditional on $F$\" as:\n",
    "\n",
    "$P(E|F) = P(E,F)/P(F)$\n",
    "\n",
    "This as the probability that $E$ happens, given that we know that $F$ happens.\n",
    "\n",
    "this is often rewrited as:\n",
    "\n",
    "$P(E,F) = P(E|F)P(F)$"
   ]
  },
  {
   "cell_type": "code",
   "execution_count": null,
   "id": "round-chocolate",
   "metadata": {},
   "outputs": [],
   "source": []
  }
 ],
 "metadata": {
  "kernelspec": {
   "display_name": "Python 3",
   "language": "python",
   "name": "python3"
  },
  "language_info": {
   "codemirror_mode": {
    "name": "ipython",
    "version": 3
   },
   "file_extension": ".py",
   "mimetype": "text/x-python",
   "name": "python",
   "nbconvert_exporter": "python",
   "pygments_lexer": "ipython3",
   "version": "3.7.9"
  }
 },
 "nbformat": 4,
 "nbformat_minor": 5
}
