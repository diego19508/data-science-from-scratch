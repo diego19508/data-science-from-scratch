{
 "cells": [
  {
   "cell_type": "markdown",
   "id": "cc172e22",
   "metadata": {},
   "source": [
    "# Getting Data"
   ]
  },
  {
   "cell_type": "markdown",
   "id": "9f872874",
   "metadata": {},
   "source": [
    "## stdin and stdout\n",
    "\n",
    "If you run your Python scripts at the command line, you can pipe data through them using **sys.stdin** and **sys.stdout**. "
   ]
  },
  {
   "cell_type": "code",
   "execution_count": 1,
   "id": "613cecb4",
   "metadata": {},
   "outputs": [],
   "source": [
    "import sys, re"
   ]
  },
  {
   "cell_type": "code",
   "execution_count": 2,
   "id": "b05a7601",
   "metadata": {},
   "outputs": [],
   "source": [
    "# sys.argv is the list of command-line arguments\n",
    "# sys.argv[0] is the name of the program itself\n",
    "# sys.argv[1] will be the regex specified at the command line"
   ]
  },
  {
   "cell_type": "code",
   "execution_count": 3,
   "id": "aa7f8c0e",
   "metadata": {},
   "outputs": [],
   "source": [
    "regex = sys.argv[1]"
   ]
  },
  {
   "cell_type": "code",
   "execution_count": 4,
   "id": "5be66d25",
   "metadata": {},
   "outputs": [],
   "source": [
    "# for every line passed into the script\n",
    "for line in sys.stdin:\n",
    "    # if it matches the regex, write it to stdout\n",
    "    if re.search(regex, line):\n",
    "        sys.stdout.write(line)"
   ]
  },
  {
   "cell_type": "code",
   "execution_count": 6,
   "id": "248f5f1b",
   "metadata": {},
   "outputs": [
    {
     "name": "stdout",
     "output_type": "stream",
     "text": [
      "0\n"
     ]
    }
   ],
   "source": [
    "# line_count.py\n",
    "import sys\n",
    "\n",
    "count = 0\n",
    "for line in sys.stdin:\n",
    "    count += 1\n",
    "\n",
    "# print goes to sys.stdout\n",
    "print(count)"
   ]
  },
  {
   "cell_type": "code",
   "execution_count": null,
   "id": "48335212",
   "metadata": {},
   "outputs": [],
   "source": [
    "type SomeFile.txt | python egrep.py \"[0-9]\" | python line_count.py"
   ]
  },
  {
   "cell_type": "markdown",
   "id": "eefd40c0",
   "metadata": {},
   "source": [
    "This is a script that counts the words in its input and writes out the most common ones:"
   ]
  },
  {
   "cell_type": "code",
   "execution_count": 8,
   "id": "dd71507c",
   "metadata": {},
   "outputs": [],
   "source": [
    "import sys\n",
    "from collections import Counter"
   ]
  },
  {
   "cell_type": "code",
   "execution_count": null,
   "id": "8f1a6549",
   "metadata": {
    "code_folding": [],
    "scrolled": true
   },
   "outputs": [],
   "source": [
    "# pass in number of words as first argument\n",
    "try:\n",
    "    num_words = int(sys.argv[1])\n",
    "except:\n",
    "    print(\"usage: most_common_words.py num_words\")\n",
    "    sys.exit(1)   # nonzero exit code indicates error\n",
    "\n",
    "counter = Counter(word.lower()                      # lowercase words\n",
    "                  for line in sys.stdin\n",
    "                  for word in line.strip().split()  # split on spaces\n",
    "                  if word)                          # skip empty 'words'\n",
    "\n",
    "for word, count in counter.most_common(num_words):\n",
    "    sys.stdout.write(str(count))\n",
    "    sys.stdout.write(\"\\t\")\n",
    "    sys.stdout.write(word)\n",
    "    sys.stdout.write(\"\\n\")\n"
   ]
  },
  {
   "cell_type": "markdown",
   "id": "833f979a",
   "metadata": {},
   "source": [
    "## Reading Files\n",
    "\n",
    "### The Basics of Text Files"
   ]
  },
  {
   "cell_type": "code",
   "execution_count": null,
   "id": "8e8cd535",
   "metadata": {},
   "outputs": [],
   "source": [
    "# 'r' means read-only, it's assumed if you leave it out\n",
    "file_for_reading = open('reading_file.txt', 'r')\n",
    "file_for_reading2 = open('reading_file.txt')\n",
    "\n",
    "# 'w' is write -- will destroy the file if it already exists!\n",
    "file_for_writing = open('writing_file.txt', 'w')\n",
    "\n",
    "# 'a' is append -- for adding to the end of the file\n",
    "file_for_appending = open('appending_file.txt', 'a')\n",
    "\n",
    "# don't forget to close your files when you're done\n",
    "file_for_writing.close()"
   ]
  },
  {
   "cell_type": "markdown",
   "id": "7caed4e9",
   "metadata": {},
   "source": [
    "Because it is easy to forget to close your files, you should always use them in a with block, at the end of which they will be closed automatically."
   ]
  },
  {
   "cell_type": "markdown",
   "id": "d65436ba-84f6-4d3d-99a1-e1f70049fbf7",
   "metadata": {},
   "source": [
    "### Delimited Files"
   ]
  },
  {
   "cell_type": "code",
   "execution_count": 7,
   "id": "03fca077-cb07-48d3-a064-3ad0f6f15292",
   "metadata": {},
   "outputs": [],
   "source": [
    "with open('tab_delimited_stock_prices.txt', 'w') as f:\n",
    "    f.write(\"\"\"6/20/2014\\tAAPL\\t90.91\n",
    "6/20/2014\\tMSFT\\t41.68\n",
    "6/20/2014\\tFB\\t64.5\n",
    "6/19/2014\\tAAPL\\t91.86\n",
    "6/19/2014\\tMSFT\\t41.51\n",
    "6/19/2014\\tFB\\t64.34\n",
    "\"\"\")\n",
    "\n",
    "    def process(date: str, symbol: str, closing_price: float) -> None:\n",
    "    # Imaginge that this function actually does something.\n",
    "        assert closing_price > 0.0"
   ]
  },
  {
   "cell_type": "code",
   "execution_count": 8,
   "id": "62c09ab2-501d-4740-ad11-79293b5e9bca",
   "metadata": {},
   "outputs": [],
   "source": [
    "import csv\n",
    "\n",
    "with open('tab_delimited_stock_prices.txt') as f:\n",
    "    tab_reader = csv.reader(f, delimiter='\\t')\n",
    "    for row in tab_reader:\n",
    "        date = row[0]\n",
    "        symbol = row[1]\n",
    "        closing_price = float(row[2])\n",
    "        process(date, symbol, closing_price)"
   ]
  },
  {
   "cell_type": "code",
   "execution_count": null,
   "id": "e5e13bb8-8e86-4861-9be2-6fda4e7c9e75",
   "metadata": {},
   "outputs": [],
   "source": []
  }
 ],
 "metadata": {
  "kernelspec": {
   "display_name": "Python 3",
   "language": "python",
   "name": "python3"
  },
  "language_info": {
   "codemirror_mode": {
    "name": "ipython",
    "version": 3
   },
   "file_extension": ".py",
   "mimetype": "text/x-python",
   "name": "python",
   "nbconvert_exporter": "python",
   "pygments_lexer": "ipython3",
   "version": "3.7.9"
  }
 },
 "nbformat": 4,
 "nbformat_minor": 5
}
