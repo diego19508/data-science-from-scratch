{
 "cells": [
  {
   "cell_type": "markdown",
   "id": "c73c21bb-77e6-4562-849d-4769acdb9fdf",
   "metadata": {},
   "source": [
    "# Simple Linear Regression"
   ]
  },
  {
   "cell_type": "markdown",
   "id": "dff62f95-eb71-4d54-a81f-a72d3608fb42",
   "metadata": {},
   "source": [
    "\n",
    "$Y_i = \\beta x_i + \\alpha + \\epsilon$\n",
    "                  "
   ]
  },
  {
   "cell_type": "markdown",
   "id": "2d9f37a3-bc4e-41e1-8437-b22eff14f618",
   "metadata": {},
   "source": [
    "Where $y_i$ is the number of minutes user $i$ spends on the site daily, $x_i$ is the number of friends user $i$ has, and $\\epsilon$ is a (hopefully small) error term representing the fact that there are other factors not accounted for this by this simple model."
   ]
  },
  {
   "cell_type": "code",
   "execution_count": 1,
   "id": "e52ef6df-63f4-4a0d-a126-68f488aafc81",
   "metadata": {},
   "outputs": [],
   "source": [
    "def predict(alpha: float, beta: float, x_i: float) -> float:\n",
    "    return beta * x_i + alpha"
   ]
  },
  {
   "cell_type": "code",
   "execution_count": 2,
   "id": "42ff409c-1235-4778-bb55-0c2c269d017b",
   "metadata": {},
   "outputs": [],
   "source": [
    "def error(alpha: float, beta: float, x_i: float, y_i: float) -> float:\n",
    "    \"\"\"\n",
    "    The error from predicting beta * x_i + alpha\n",
    "    when the actual value is y_i\n",
    "    \"\"\"\n",
    "    return predict(alpha, beta, x_i) - y_i"
   ]
  },
  {
   "cell_type": "markdown",
   "id": "87e55ed1-8cd7-4de6-94c1-243ddd5b41c2",
   "metadata": {},
   "source": [
    "add up the **squared** errors"
   ]
  },
  {
   "cell_type": "code",
   "execution_count": 3,
   "id": "f132c4bf-f92e-4087-8b6c-f78d5262e5d2",
   "metadata": {},
   "outputs": [],
   "source": [
    "from scratch.linear_algebra import Vector"
   ]
  },
  {
   "cell_type": "code",
   "execution_count": 4,
   "id": "7cb6a4b3-b4a2-4f8c-8ec3-78719cc56711",
   "metadata": {},
   "outputs": [],
   "source": [
    "def sum_of_sqerrors(alpha: float, beta: float, x: Vector, y: Vector) -> float:\n",
    "    return sum(error(alpha, beta, x_i, y_i) ** 2\n",
    "               for x_i, y_i in zip(x, y))"
   ]
  },
  {
   "cell_type": "markdown",
   "id": "5de5dbb0-5874-496e-8466-c7cc4082ee9c",
   "metadata": {},
   "source": [
    "The **least squares** solution is to choose the alpha and beta that make sum_of_sqerrors as small as possible.\n",
    "Using calculus (or tedious algebra), the error-minimizing alpha and beta are given by:"
   ]
  },
  {
   "cell_type": "code",
   "execution_count": 5,
   "id": "09235f9c-2a86-4d55-a291-d1898d5e699d",
   "metadata": {},
   "outputs": [
    {
     "data": {
      "image/png": "[encoded data removed]",
      "text/plain": [
       "<Figure size 432x288 with 1 Axes>"
      ]
     },
     "metadata": {
      "needs_background": "light"
     },
     "output_type": "display_data"
    }
   ],
   "source": [
    "from typing import Tuple\n",
    "from scratch.linear_algebra import Vector\n",
    "from scratch.statistics import correlation, standard_deviation, mean\n",
    "\n",
    "def least_squares_fit(x: Vector, y: Vector) -> Tuple[float, float]:\n",
    "    \"\"\"\n",
    "    Given two vectors x and y,\n",
    "    find the least-squares values of alpha and beta\n",
    "    \"\"\"\n",
    "    beta = correlation(x, y) * standard_deviation(y) / standard_deviation(x)\n",
    "    alpha = mean(y) - beta * mean(x)\n",
    "    return alpha, beta"
   ]
  },
  {
   "cell_type": "markdown",
   "id": "f62952d5-c2ee-4129-b6fa-aefa069255b9",
   "metadata": {},
   "source": [
    "The choice of alpha simply says that when we see the average value of the independent variable x, we predict the average value of the dependent variable y.\n",
    "The choice of beta means that when the input value increases by standard_deviation(x), the prediction then increases by\n",
    "\n",
    "correlation(x, y) * standard_deviation(y). \n",
    "\n",
    "In the case where x and y are perfectly correlated, a one-standard-deviation increase in x results in a one-standard-deviation-of-y increase in the prediction. When they’re perfectly anticorrelated, the increase in x results in a decrease in the prediction. \n",
    "\n",
    "When correlation is 0, beta is 0, which means that changes in x dont affect the prediction at all."
   ]
  },
  {
   "cell_type": "code",
   "execution_count": 6,
   "id": "acc07a6e-0725-4da4-936f-dba3014ba3fe",
   "metadata": {},
   "outputs": [],
   "source": [
    "x = [i for i in range(-100, 110, 10)]\n",
    "y = [3 * i - 5 for i in x]\n",
    "\n",
    "# Should find that y = 3x - 5\n",
    "assert least_squares_fit(x, y) == (-5, 3)"
   ]
  },
  {
   "cell_type": "code",
   "execution_count": 7,
   "id": "48e50c0b-0f07-4229-b03f-ee734bf8869d",
   "metadata": {},
   "outputs": [],
   "source": [
    "from scratch.statistics import num_friends_good, daily_minutes_good\n",
    "\n",
    "alpha, beta = least_squares_fit(num_friends_good, daily_minutes_good)\n",
    "assert 22.9 < alpha < 23.0\n",
    "assert 0.9 < beta < 0.905"
   ]
  },
  {
   "cell_type": "markdown",
   "id": "222b546f-4163-4c56-9ca8-c8e3564fd272",
   "metadata": {},
   "source": [
    "A common measure is the **coefficient of determination** (or **R-squared**), which measures the graction of the total variation in the dependent variable that is captured by the model."
   ]
  },
  {
   "cell_type": "code",
   "execution_count": 8,
   "id": "67513dbc-a152-471f-8c56-b0e196b4453a",
   "metadata": {},
   "outputs": [],
   "source": [
    "from scratch.statistics import de_mean\n",
    "\n",
    "def total_sum_of_squares(y: Vector) -> float:\n",
    "    \"\"\"the total squared variation of y_i's from their mean\"\"\"\n",
    "    return sum(v ** 2 for v in de_mean(y))\n",
    "\n",
    "def r_squared(alpha: float, beta: float, x: Vector, y: Vector) -> float:\n",
    "    \"\"\"\n",
    "    the fraction of variation in y captured by the model, which equals\n",
    "    1 - the fraction of variation in y not captured by the model\n",
    "    \"\"\"\n",
    "    return 1.0 - (sum_of_sqerrors(alpha, beta, x, y) /\n",
    "                  total_sum_of_squares(y))\n",
    "\n",
    "rsq = r_squared(alpha, beta, num_friends_good, daily_minutes_good)\n",
    "assert 0.328 < rsq < 0.330"
   ]
  },
  {
   "cell_type": "markdown",
   "id": "b0182a16-b245-481b-93f4-34bef7f58c11",
   "metadata": {},
   "source": [
    "## Using Gradient Descent"
   ]
  },
  {
   "cell_type": "code",
   "execution_count": 9,
   "id": "d0de9102-8ff0-4952-b3d0-b6aa958a017c",
   "metadata": {},
   "outputs": [
    {
     "name": "stderr",
     "output_type": "stream",
     "text": [
      "loss: 13196.619: 100%|██████████| 10000/10000 [00:56<00:00, 177.32it/s]\n"
     ]
    }
   ],
   "source": [
    "def main():\n",
    "    import random\n",
    "    import tqdm\n",
    "    from scratch.gradient_descent import gradient_step\n",
    "    \n",
    "    num_epochs = 10000\n",
    "    random.seed(0)\n",
    "    \n",
    "    guess = [random.random(), random.random()]  # choose random value to start\n",
    "    \n",
    "    learning_rate = 0.00001\n",
    "    \n",
    "    with tqdm.trange(num_epochs) as t:\n",
    "        for _ in t:\n",
    "            alpha, beta = guess\n",
    "    \n",
    "            # Partial derivative of loss with respect to alpha\n",
    "            grad_a = sum(2 * error(alpha, beta, x_i, y_i)\n",
    "                         for x_i, y_i in zip(num_friends_good,\n",
    "                                             daily_minutes_good))\n",
    "    \n",
    "            # Partial derivative of loss with respect to beta\n",
    "            grad_b = sum(2 * error(alpha, beta, x_i, y_i) * x_i\n",
    "                         for x_i, y_i in zip(num_friends_good,\n",
    "                                             daily_minutes_good))\n",
    "    \n",
    "            # Compute loss to stick in the tqdm description\n",
    "            loss = sum_of_sqerrors(alpha, beta,\n",
    "                                   num_friends_good, daily_minutes_good)\n",
    "            t.set_description(f\"loss: {loss:.3f}\")\n",
    "    \n",
    "            # Finally, update the guess\n",
    "            guess = gradient_step(guess, [grad_a, grad_b], -learning_rate)\n",
    "    \n",
    "    # We should get pretty much the same results:\n",
    "    alpha, beta = guess\n",
    "    assert 22.9 < alpha < 23.0\n",
    "    assert 0.9 < beta < 0.905\n",
    "if __name__ == \"__main__\": main()"
   ]
  },
  {
   "cell_type": "code",
   "execution_count": null,
   "id": "40c3e153-6a0d-40ce-944e-231c9869e50b",
   "metadata": {},
   "outputs": [],
   "source": []
  }
 ],
 "metadata": {
  "kernelspec": {
   "display_name": "Python 3",
   "language": "python",
   "name": "python3"
  },
  "language_info": {
   "codemirror_mode": {
    "name": "ipython",
    "version": 3
   },
   "file_extension": ".py",
   "mimetype": "text/x-python",
   "name": "python",
   "nbconvert_exporter": "python",
   "pygments_lexer": "ipython3",
   "version": "3.7.9"
  }
 },
 "nbformat": 4,
 "nbformat_minor": 5
}
